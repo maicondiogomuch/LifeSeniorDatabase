{
 "cells": [
  {
   "cell_type": "code",
   "execution_count": 12,
   "id": "c744f598-27d7-4f5b-8502-267065fd5155",
   "metadata": {
    "tags": []
   },
   "outputs": [
    {
     "name": "stdout",
     "output_type": "stream",
     "text": [
      "Dataset/Participante 2/V2_AVD_D_3/ACC.csv\n",
      "Dataset/Participante 2/V2_AVD_D_3/tags.csv\n",
      "Lifesenior/AVD_D_3/V2_AVD_D_3.csv\n"
     ]
    }
   ],
   "source": [
    "import pandas as pd\n",
    "import os\n",
    "from datetime import datetime\n",
    "\n",
    "SAMPLE_RATE = 32\n",
    "\n",
    "PARTICIPANTE = 2\n",
    "\n",
    "\n",
    "ATIVIDADE = 'AVD'\n",
    "MARCHA = 'D'\n",
    "SEQUENCIA = 3\n",
    "SENSOR = 'ACC'\n",
    "\n",
    "HEADER_LINES = 2\n",
    "\n",
    "print('Dataset/Participante '+str(PARTICIPANTE)+'/V'+str(PARTICIPANTE)+'_'+ATIVIDADE+'_'+MARCHA+'_'+str(SEQUENCIA)+'/'+SENSOR+'.csv') \n",
    "print('Dataset/Participante '+str(PARTICIPANTE)+'/V'+str(PARTICIPANTE)+'_'+ATIVIDADE+'_'+MARCHA+'_'+str(SEQUENCIA)+'/tags.csv')\n",
    "print('Lifesenior/'+ATIVIDADE+'_'+MARCHA+'_'+str(SEQUENCIA)+'/V'+str(PARTICIPANTE)+'_'+ATIVIDADE+'_'+MARCHA+'_'+str(SEQUENCIA)+'.csv')"
   ]
  },
  {
   "cell_type": "code",
   "execution_count": 13,
   "id": "79fe5c5f-8bd1-4845-aba8-7e2f8eba68c1",
   "metadata": {
    "tags": []
   },
   "outputs": [
    {
     "name": "stdout",
     "output_type": "stream",
     "text": [
      "             acc_x         acc_y         acc_z\n",
      "0     1.660321e+09  1.660321e+09  1.660321e+09\n",
      "1     3.200000e+01  3.200000e+01  3.200000e+01\n",
      "2    -2.800000e+01 -6.300000e+01  1.300000e+01\n",
      "3    -2.900000e+01 -6.300000e+01  1.200000e+01\n",
      "4    -2.800000e+01 -5.800000e+01  1.200000e+01\n",
      "...            ...           ...           ...\n",
      "2943 -2.500000e+01 -6.500000e+01  4.000000e+00\n",
      "2944 -2.800000e+01 -7.500000e+01  0.000000e+00\n",
      "2945 -3.200000e+01 -8.000000e+01  0.000000e+00\n",
      "2946 -3.300000e+01 -7.100000e+01  2.000000e+00\n",
      "2947 -3.200000e+01 -4.500000e+01  9.000000e+00\n",
      "\n",
      "[2948 rows x 3 columns]\n",
      "1660321409.0\n"
     ]
    }
   ],
   "source": [
    " #read file\n",
    " data = pd.read_csv('Dataset/Participante '+str(PARTICIPANTE)+'/V'+str(PARTICIPANTE)+'_'+ATIVIDADE+'_'+MARCHA+'_'+str(SEQUENCIA)+'/'+SENSOR+'.csv',index_col=False,header=None)\n",
    " data = data.rename(columns={0: 'acc_x', 1: 'acc_y', 2: 'acc_z'})\n",
    " init_time_measure = data.iloc[0,0]\n",
    " print(data)\n",
    "\n",
    " print(init_time_measure)"
   ]
  },
  {
   "cell_type": "code",
   "execution_count": 14,
   "id": "5786ac3c-4b2b-42fb-af81-94c0db420b65",
   "metadata": {
    "tags": []
   },
   "outputs": [
    {
     "name": "stdout",
     "output_type": "stream",
     "text": [
      "              0\n",
      "0  1.660321e+09\n",
      "1  1.660321e+09\n",
      "(2, 1)\n"
     ]
    }
   ],
   "source": [
    "#read tags that inform init and end of activity\n",
    "tags = pd.read_csv('Dataset/Participante '+str(PARTICIPANTE)+'/V'+str(PARTICIPANTE)+'_'+ATIVIDADE+'_'+MARCHA+'_'+str(SEQUENCIA)+'/tags.csv',index_col=False,header=None)\n",
    "print(tags)\n",
    "print(tags.shape)"
   ]
  },
  {
   "cell_type": "code",
   "execution_count": 15,
   "id": "0df1f259-ec4a-489e-b2d8-659aaccaf9e8",
   "metadata": {
    "tags": []
   },
   "outputs": [
    {
     "name": "stdout",
     "output_type": "stream",
     "text": [
      "1660321420.84\n"
     ]
    }
   ],
   "source": [
    "#store init and end activity time\n",
    "init_activ_time = tags.iloc[0,0]\n",
    "end_activ_time = tags.iloc[1,0]\n",
    "print(init_activ_time)"
   ]
  },
  {
   "cell_type": "code",
   "execution_count": 16,
   "id": "a27017c1-6614-4a1f-9663-555301e43730",
   "metadata": {
    "tags": []
   },
   "outputs": [
    {
     "name": "stdout",
     "output_type": "stream",
     "text": [
      "11.839999914169312\n",
      "380\n"
     ]
    }
   ],
   "source": [
    "#calc time to cut in file init\n",
    "lines_to_cut_init = init_activ_time - init_time_measure\n",
    "print(lines_to_cut_init)\n",
    "lines_to_cut_init = int(lines_to_cut_init*SAMPLE_RATE)+HEADER_LINES\n",
    "print(lines_to_cut_init)"
   ]
  },
  {
   "cell_type": "code",
   "execution_count": 17,
   "id": "8587200f-f61a-466c-872c-0ab31240db2c",
   "metadata": {
    "tags": []
   },
   "outputs": [
    {
     "name": "stdout",
     "output_type": "stream",
     "text": [
      "86.20000004768372\n",
      "2760\n"
     ]
    }
   ],
   "source": [
    "#calc time to cut in file end\n",
    "lines_to_cut_end = end_activ_time - init_time_measure\n",
    "print(lines_to_cut_end)\n",
    "lines_to_cut_end = int(lines_to_cut_end*SAMPLE_RATE)+HEADER_LINES\n",
    "print(lines_to_cut_end)"
   ]
  },
  {
   "cell_type": "code",
   "execution_count": 18,
   "id": "a9be77cc-d0e8-4861-adfa-2165e4622f75",
   "metadata": {
    "tags": []
   },
   "outputs": [
    {
     "name": "stdout",
     "output_type": "stream",
     "text": [
      "[[-0.296875 -0.8125    0.453125]\n",
      " [-0.3125   -0.828125  0.484375]\n",
      " [-0.296875 -0.796875  0.484375]\n",
      " ...\n",
      " [-0.234375 -0.765625  0.453125]\n",
      " [-0.28125  -0.796875  0.453125]\n",
      " [-0.28125  -0.796875  0.453125]]\n"
     ]
    }
   ],
   "source": [
    "#get only samples from init to end tagged activity\n",
    "formatted_data = data.iloc[lines_to_cut_init:lines_to_cut_end,:]\n",
    "\n",
    "#transform to real values according to Empatica Calc\n",
    "formatted_data = (formatted_data.values*2)/128\n",
    "\n",
    "print(formatted_data)\n",
    "\n",
    "newdata = pd.DataFrame(formatted_data)\n",
    "newdata = newdata.rename(columns={0: 'acc_x', 1: 'acc_y', 2: 'acc_z'})"
   ]
  },
  {
   "cell_type": "code",
   "execution_count": 19,
   "id": "15a2fc70-72f4-4446-801a-dd1f39503e2a",
   "metadata": {
    "tags": []
   },
   "outputs": [
    {
     "name": "stdout",
     "output_type": "stream",
     "text": [
      "(2380, 3)\n"
     ]
    }
   ],
   "source": [
    "print(newdata.shape)"
   ]
  },
  {
   "cell_type": "code",
   "execution_count": 20,
   "id": "9eae4318-78a5-4fa1-bceb-27b52bb60233",
   "metadata": {
    "tags": []
   },
   "outputs": [
    {
     "name": "stdout",
     "output_type": "stream",
     "text": [
      "         acc_x     acc_y     acc_z\n",
      "0    -0.296875 -0.812500  0.453125\n",
      "1    -0.312500 -0.828125  0.484375\n",
      "2    -0.296875 -0.796875  0.484375\n",
      "3    -0.328125 -0.781250  0.500000\n",
      "4    -0.250000 -0.765625  0.734375\n",
      "...        ...       ...       ...\n",
      "2375 -0.312500 -0.843750  0.437500\n",
      "2376 -0.281250 -0.828125  0.437500\n",
      "2377 -0.234375 -0.765625  0.453125\n",
      "2378 -0.281250 -0.796875  0.453125\n",
      "2379 -0.281250 -0.796875  0.453125\n",
      "\n",
      "[2380 rows x 3 columns]\n"
     ]
    }
   ],
   "source": [
    "print(newdata)"
   ]
  },
  {
   "cell_type": "code",
   "execution_count": 21,
   "id": "72099921-9d38-46e0-a359-374c9f9c5c48",
   "metadata": {
    "tags": []
   },
   "outputs": [
    {
     "data": {
      "text/plain": [
       "<Axes: >"
      ]
     },
     "execution_count": 21,
     "metadata": {},
     "output_type": "execute_result"
    },
    {
     "data": {
      "image/png": "[encoded data removed]",
      "text/plain": [
       "<Figure size 640x480 with 1 Axes>"
      ]
     },
     "metadata": {},
     "output_type": "display_data"
    }
   ],
   "source": [
    "newdata.plot()"
   ]
  },
  {
   "cell_type": "code",
   "execution_count": 22,
   "id": "73f1546d-209e-40f9-a7c6-71cc1f08ce32",
   "metadata": {
    "tags": []
   },
   "outputs": [],
   "source": [
    "#export the file to specific activity\n",
    "newdata.to_csv('Lifesenior/'+ATIVIDADE+'_'+MARCHA+'_'+str(SEQUENCIA)+'/V'+str(PARTICIPANTE)+'_'+ATIVIDADE+'_'+MARCHA+'_'+str(SEQUENCIA)+'.csv', index=False)"
   ]
  },
  {
   "cell_type": "code",
   "execution_count": null,
   "id": "868779b0-f35d-4067-b0f0-5c2034d87e53",
   "metadata": {},
   "outputs": [],
   "source": []
  },
  {
   "cell_type": "code",
   "execution_count": null,
   "id": "febdd560-5961-489b-b002-faae2fb1baba",
   "metadata": {},
   "outputs": [],
   "source": []
  }
 ],
 "metadata": {
  "kernelspec": {
   "display_name": "Python 3 (ipykernel)",
   "language": "python",
   "name": "python3"
  },
  "language_info": {
   "codemirror_mode": {
    "name": "ipython",
    "version": 3
   },
   "file_extension": ".py",
   "mimetype": "text/x-python",
   "name": "python",
   "nbconvert_exporter": "python",
   "pygments_lexer": "ipython3",
   "version": "3.11.5"
  }
 },
 "nbformat": 4,
 "nbformat_minor": 5
}
