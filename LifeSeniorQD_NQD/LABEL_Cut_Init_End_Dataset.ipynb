{
 "cells": [
  {
   "cell_type": "code",
   "execution_count": 115,
   "id": "c744f598-27d7-4f5b-8502-267065fd5155",
   "metadata": {
    "tags": []
   },
   "outputs": [
    {
     "name": "stdout",
     "output_type": "stream",
     "text": [
      "QD_G_12/V1_QD_G_12.csv\n"
     ]
    }
   ],
   "source": [
    "import pandas as pd\n",
    "import os\n",
    "\n",
    "#NON_FALL\n",
    "#AVD_A_1 - STOPPED - 0\n",
    "#AVD_A_2 - WALKING - 1\n",
    "#AVD_A_3 - GETTING UP AND SITTING ON CHAIR - 2\n",
    "#AVD_A_4 - SQUATTING AND COMING BACK - 3\n",
    "#AVD_A_5 - LAYING DOWN AND GETTING UP - 4\n",
    "#AVD_D_1 - STOPPED - 0\n",
    "#AVD_D_2 - WALKING - 1\n",
    "#AVD_D_3 - GETTING UP AND SITTING ON CHAIR - 2\n",
    "#AVD_D_4 - SQUATTING AND COMING BACK - 3\n",
    "#AVD_D_5 - LAYING DOWN AND GETTING UP - 4\n",
    "#AVD_G_1 - STOPPED - 0\n",
    "#AVD_G_2 - WALKING - 1\n",
    "#AVD_G_3 - GETTING UP AND SITTING ON CHAIR - 2\n",
    "#AVD_G_4 - SQUATTING AND COMING BACK - 3\n",
    "#AVD_G_5 - LAYING DOWN AND GETTING UP - 4\n",
    "#PDE_A_6 - SITTING AND STANDING UP LOSS OF BALANCE - 5\n",
    "#PDE_A_7 - STANDING AND SITTING LOSS OF BALANCE - 6\n",
    "#PDE_A_8 - CHANGING DIRECTION LOSS OF BALANCE - 7\n",
    "#PDE_A_9 - REACHING OBJECT LOSS OF BALANCE - 8\n",
    "#PDE_D_6 - SITTING AND STANDING UP LOSS OF BALANCE - 5\n",
    "#PDE_D_7 - STANDING AND SITTING LOSS OF BALANCE - 6\n",
    "#PDE_D_8 - CHANGING DIRECTION LOSS OF BALANCE - 7\n",
    "#PDE_D_9 - REACHING OBJECT LOSS OF BALANCE - 8\n",
    "#PDE_G_6 - SITTING AND STANDING UP LOSS OF BALANCE - 5\n",
    "#PDE_G_7 - STANDING AND SITTING LOSS OF BALANCE - 6\n",
    "#PDE_G_8 - CHANGING DIRECTION LOSS OF BALANCE - 7\n",
    "#PDE_G_9 - REACHING OBJECT LOSS OF BALANCE - 8\n",
    "\n",
    "#FALL\n",
    "#QD_A_10 - OBSTACLE FALL - 9\n",
    "#QD_A_11 - FALL CADENCE CONTINUITY - 10\n",
    "#QD_A_12 - FALL SYNCOPE - 11\n",
    "#QD_D_10 - OBSTACLE FALL - 9\n",
    "#QD_D_11 - FALL CADENCE CONTINUITY - 10\n",
    "#QD_D_12 - FALL SYNCOPE - 11\n",
    "#QD_G_10 - OBSTACLE FALL - 9\n",
    "#QD_G_11 - FALL CADENCE CONTINUITY - 10\n",
    "#QD_G_12 - FALL SYNCOPE - 11\n",
    "\n",
    "LABEL = 1 \n",
    "\n",
    "PARTICIPANTE = 1\n",
    "PATIENTS = ['1','2','3','4','5','6','7','8','9','10']\n",
    "\n",
    "ATIVIDADE = 'QD'\n",
    "MARCHA = 'G'\n",
    "SEQUENCIA = 12\n",
    "\n",
    "print(ATIVIDADE+'_'+MARCHA+'_'+str(SEQUENCIA)+'/V'+str(PARTICIPANTE)+'_'+ATIVIDADE+'_'+MARCHA+'_'+str(SEQUENCIA)+'.csv')\n"
   ]
  },
  {
   "cell_type": "code",
   "execution_count": 116,
   "id": "6f116f53-5097-4eaa-832d-ebbae065ee7c",
   "metadata": {
    "tags": []
   },
   "outputs": [],
   "source": [
    "# Creating Empty DataFrame and Storing it in variable df\n",
    "\n",
    " \n",
    "#df.insert(0, \"label\", [LABEL])"
   ]
  },
  {
   "cell_type": "code",
   "execution_count": 117,
   "id": "790c8f0e-075b-47ec-babe-a27560197ecc",
   "metadata": {},
   "outputs": [
    {
     "name": "stdout",
     "output_type": "stream",
     "text": [
      "QD_G_12/V1_QD_G_12.csv\n",
      "1275\n",
      "1275\n",
      "1\n",
      "QD_G_12/V2_QD_G_12.csv\n",
      "1157\n",
      "1157\n",
      "2\n",
      "QD_G_12/V3_QD_G_12.csv\n",
      "1104\n",
      "1104\n",
      "3\n",
      "QD_G_12/V4_QD_G_12.csv\n",
      "1185\n",
      "1185\n",
      "4\n",
      "QD_G_12/V5_QD_G_12.csv\n",
      "1201\n",
      "1201\n",
      "5\n",
      "QD_G_12/V6_QD_G_12.csv\n",
      "1175\n",
      "1175\n",
      "6\n",
      "QD_G_12/V7_QD_G_12.csv\n",
      "1289\n",
      "1289\n",
      "7\n",
      "QD_G_12/V8_QD_G_12.csv\n",
      "1119\n",
      "1119\n",
      "8\n",
      "QD_G_12/V9_QD_G_12.csv\n",
      "1174\n",
      "1174\n",
      "9\n",
      "QD_G_12/V10_QD_G_12.csv\n",
      "1240\n",
      "1240\n",
      "10\n"
     ]
    }
   ],
   "source": [
    "for i in PATIENTS:\n",
    "    print(ATIVIDADE+'_'+MARCHA+'_'+str(SEQUENCIA)+'/V'+i+'_'+ATIVIDADE+'_'+MARCHA+'_'+str(SEQUENCIA)+'.csv')\n",
    "    dataLifeSenior = pd.read_csv(ATIVIDADE+'_'+MARCHA+'_'+str(SEQUENCIA)+'/V'+i+'_'+ATIVIDADE+'_'+MARCHA+'_'+str(SEQUENCIA)+'.csv',index_col=False)\n",
    "    print(dataLifeSenior.shape[0])\n",
    "    \n",
    "    df = pd.DataFrame()\n",
    "    df.insert(0, \"label\", [LABEL])\n",
    "    df = df.loc[df.index.repeat(dataLifeSenior.shape[0])]\n",
    "    print(df.shape[0])\n",
    "    dataLifeSenior[\"label\"] = df.values\n",
    "    print(i)\n",
    "    #export the file to specific activity\n",
    "    dataLifeSenior.to_csv(ATIVIDADE+'_'+MARCHA+'_'+str(SEQUENCIA)+'/V'+i+'_'+ATIVIDADE+'_'+MARCHA+'_'+str(SEQUENCIA)+'.csv', index=False)\n",
    "    del df"
   ]
  },
  {
   "cell_type": "code",
   "execution_count": null,
   "id": "75071e3f-25fe-4368-87df-c03d00dbdeff",
   "metadata": {},
   "outputs": [],
   "source": []
  },
  {
   "cell_type": "code",
   "execution_count": null,
   "id": "d79bed63-5f74-4d0e-aeca-e483941bc989",
   "metadata": {},
   "outputs": [],
   "source": []
  },
  {
   "cell_type": "code",
   "execution_count": null,
   "id": "1993efe9-96f9-4bdc-b9b8-149a070e0448",
   "metadata": {},
   "outputs": [],
   "source": []
  }
 ],
 "metadata": {
  "kernelspec": {
   "display_name": "Python 3 (ipykernel)",
   "language": "python",
   "name": "python3"
  },
  "language_info": {
   "codemirror_mode": {
    "name": "ipython",
    "version": 3
   },
   "file_extension": ".py",
   "mimetype": "text/x-python",
   "name": "python",
   "nbconvert_exporter": "python",
   "pygments_lexer": "ipython3",
   "version": "3.11.5"
  }
 },
 "nbformat": 4,
 "nbformat_minor": 5
}
